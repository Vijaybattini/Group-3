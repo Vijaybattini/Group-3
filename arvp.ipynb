{
 "cells": [
  {
   "cell_type": "code",
   "execution_count": 1,
   "id": "45e5f193-0876-4cd1-8902-b5c4705bb2c7",
   "metadata": {
    "ExecuteTime": {
     "end_time": "2023-10-31T11:25:52.191244Z",
     "start_time": "2023-10-31T11:25:41.325005Z"
    }
   },
   "outputs": [],
   "source": [
    "# Import TensorFlow and hub\n",
    "import tensorflow as tf\n",
    "import tensorflow_hub as hub\n",
    "\n",
    "# Plotting\n",
    "import matplotlib.pyplot as plt\n",
    "\n",
    "# some important packages\n",
    "import os\n",
    "import re\n",
    "import numpy as np\n",
    "import pandas as pd\n",
    "\n",
    "# scikit-learn\n",
    "from sklearn.metrics.pairwise import cosine_similarity\n",
    "from sklearn.neighbors import NearestNeighbors\n",
    "from sklearn.decomposition import PCA"
   ]
  },
  {
   "cell_type": "code",
   "execution_count": 2,
   "id": "b2a60962",
   "metadata": {
    "ExecuteTime": {
     "end_time": "2023-10-31T11:26:00.515730Z",
     "start_time": "2023-10-31T11:25:52.194435Z"
    }
   },
   "outputs": [
    {
     "name": "stdout",
     "output_type": "stream",
     "text": [
      "Model Loaded\n"
     ]
    }
   ],
   "source": [
    "model_url = \"https://tfhub.dev/google/universal-sentence-encoder/4\"\n",
    "\n",
    "model = hub.load(model_url)\n",
    "print('Model Loaded')"
   ]
  },
  {
   "cell_type": "code",
   "execution_count": 3,
   "id": "43946d4d",
   "metadata": {
    "ExecuteTime": {
     "end_time": "2023-10-31T11:26:00.522865Z",
     "start_time": "2023-10-31T11:26:00.515730Z"
    }
   },
   "outputs": [],
   "source": [
    "def embed(texts):\n",
    "    return model(texts)"
   ]
  },
  {
   "cell_type": "code",
   "execution_count": 4,
   "id": "a0ca6011",
   "metadata": {
    "ExecuteTime": {
     "end_time": "2023-10-31T11:26:01.089967Z",
     "start_time": "2023-10-31T11:26:00.522865Z"
    }
   },
   "outputs": [
    {
     "data": {
      "text/plain": [
       "<tf.Tensor: shape=(1, 512), dtype=float32, numpy=\n",
       "array([[ 0.00549279,  0.02886906, -0.02628897,  0.04502158, -0.01233335,\n",
       "         0.02568329, -0.00071882, -0.05447304,  0.04221928, -0.0191371 ,\n",
       "         0.02710011, -0.04328045, -0.02486858,  0.0135952 ,  0.00482793,\n",
       "        -0.05379638,  0.01630707,  0.02139907,  0.02644024, -0.02320251,\n",
       "         0.06569218, -0.10137626, -0.01691998,  0.02492482,  0.02406815,\n",
       "        -0.03139618, -0.03265484, -0.05174927, -0.0727149 ,  0.10145196,\n",
       "         0.03868447,  0.04380691, -0.02071748, -0.01873296, -0.03071439,\n",
       "         0.01825575,  0.03627162,  0.01321464,  0.0094349 , -0.03006625,\n",
       "         0.06655685,  0.01529936, -0.10101432, -0.00671943, -0.01578641,\n",
       "         0.04991001,  0.02548564,  0.05454975, -0.01658573,  0.05624885,\n",
       "         0.038345  , -0.08679942, -0.06096426, -0.01161775,  0.01997448,\n",
       "         0.04206816, -0.04119828, -0.00768586, -0.05101158,  0.01210047,\n",
       "        -0.01673209, -0.01382073,  0.00373702,  0.04911597, -0.03481682,\n",
       "         0.05704321,  0.01964699,  0.01331994,  0.06399831, -0.06007639,\n",
       "         0.04977039,  0.05969533, -0.00512161,  0.00345538,  0.02347392,\n",
       "         0.01657879,  0.00882616, -0.05840246,  0.01081956,  0.09112442,\n",
       "        -0.04244037,  0.0237871 , -0.00078291,  0.02853673,  0.00093319,\n",
       "         0.04208673,  0.03671129, -0.04355022, -0.09307761, -0.00054823,\n",
       "        -0.01398351, -0.02585264,  0.00277773,  0.03043685,  0.10135812,\n",
       "         0.00514982,  0.00857201, -0.05206992,  0.09978893,  0.09052151,\n",
       "         0.00727677, -0.0080631 ,  0.01509869, -0.00024922,  0.00344272,\n",
       "        -0.01363511, -0.02850655, -0.02132623,  0.00644553,  0.00035647,\n",
       "         0.04428067,  0.04263918,  0.06019286, -0.01540298, -0.05650955,\n",
       "         0.06915257, -0.02070853, -0.05304862,  0.02065351,  0.02122759,\n",
       "        -0.01767537, -0.00901935, -0.02521258, -0.02947345, -0.00788983,\n",
       "        -0.08103787,  0.00427624, -0.10145584,  0.06386339,  0.09853414,\n",
       "        -0.00386895, -0.02636253,  0.03109704, -0.06319856,  0.02323465,\n",
       "        -0.08689979, -0.02764195, -0.03676214, -0.09642366, -0.00811525,\n",
       "         0.02796138, -0.04216219,  0.02821674,  0.07147539,  0.02029408,\n",
       "         0.05213046,  0.00547965,  0.01005902, -0.00968192,  0.00038215,\n",
       "         0.02508672,  0.0036778 , -0.08550171, -0.03470816,  0.0318283 ,\n",
       "         0.07189633,  0.07062658, -0.04086528,  0.06687138, -0.01880953,\n",
       "        -0.05949423,  0.02761279,  0.07921504,  0.07259229, -0.03060986,\n",
       "         0.02377021, -0.07497517, -0.0389321 ,  0.03242344,  0.00316035,\n",
       "         0.01624396,  0.06015555, -0.02738689, -0.0372602 , -0.02249825,\n",
       "         0.05164826, -0.04710847,  0.04515135,  0.01647224, -0.07968115,\n",
       "        -0.02482686,  0.07581182, -0.04040249, -0.02527559,  0.03866646,\n",
       "         0.02881845,  0.03863062,  0.03125424,  0.09795641,  0.05011384,\n",
       "        -0.04737546, -0.00737251,  0.01652108, -0.06835041,  0.01118035,\n",
       "        -0.04373859,  0.01260422, -0.00242771, -0.00058694, -0.02478766,\n",
       "         0.02563105, -0.05302643, -0.01710283,  0.00217774,  0.06206434,\n",
       "         0.00491735,  0.06120978,  0.01655252, -0.03342636, -0.00202416,\n",
       "        -0.07622245,  0.00806767, -0.08526599, -0.02341258,  0.08972816,\n",
       "        -0.02402737, -0.01625874, -0.04681421,  0.02810655, -0.03114544,\n",
       "         0.01489858, -0.05796926, -0.04334744,  0.04788567, -0.09521475,\n",
       "         0.05614291, -0.09003565, -0.00125589,  0.04825947, -0.01603317,\n",
       "         0.00241583, -0.00702672,  0.02820106,  0.09956265, -0.00557054,\n",
       "        -0.00392302,  0.07811753,  0.04828189,  0.0121674 ,  0.02649802,\n",
       "         0.0275279 ,  0.02974233,  0.07337301,  0.00549876,  0.02175412,\n",
       "         0.03527228, -0.0224583 , -0.03951047, -0.01718162, -0.00958715,\n",
       "         0.01648906,  0.02756682, -0.04291253,  0.01616792,  0.04632331,\n",
       "         0.03654641,  0.00651557, -0.03667973,  0.05807521, -0.01841667,\n",
       "        -0.00266965,  0.00346313, -0.02939765, -0.0150732 ,  0.01409325,\n",
       "        -0.0059119 ,  0.0383997 ,  0.04513567,  0.01936355,  0.02554665,\n",
       "         0.07666099,  0.10104096,  0.00929442,  0.0048254 ,  0.0202761 ,\n",
       "         0.00240536,  0.02083168, -0.03676214,  0.10099945,  0.03398843,\n",
       "         0.05451923,  0.01629779,  0.00153097,  0.04745298, -0.02842082,\n",
       "        -0.10145631, -0.035672  ,  0.0494891 ,  0.05039079, -0.03494554,\n",
       "        -0.005885  ,  0.09687837, -0.05840484,  0.01675771,  0.02724425,\n",
       "         0.02663238,  0.03828523,  0.03009387,  0.01220315,  0.06866229,\n",
       "         0.02131046, -0.0260197 , -0.02164594, -0.05966081,  0.02477535,\n",
       "        -0.03523963,  0.03393568,  0.00168257, -0.00818855,  0.06598676,\n",
       "        -0.01477992, -0.00547293,  0.0250523 ,  0.00648732,  0.02565607,\n",
       "         0.02956758, -0.03080943, -0.03890037, -0.03340892,  0.0014707 ,\n",
       "        -0.01925291,  0.03625212,  0.06860747, -0.04845807,  0.0110069 ,\n",
       "        -0.00560863,  0.0229566 , -0.00988501, -0.03040682,  0.01045822,\n",
       "         0.00439852,  0.0043543 , -0.01468388, -0.02332357, -0.09393281,\n",
       "        -0.04051306, -0.02504385, -0.02483055, -0.00718714,  0.02460037,\n",
       "         0.0977279 ,  0.04025534, -0.03151966,  0.00815453,  0.02152844,\n",
       "         0.02150856, -0.05112506, -0.10104638, -0.04361087, -0.0379595 ,\n",
       "        -0.01316943, -0.00344936, -0.04037199,  0.01797776, -0.01757184,\n",
       "        -0.04222957, -0.0975797 , -0.00327319,  0.03685584,  0.05532566,\n",
       "        -0.01406302, -0.04614406,  0.09916462,  0.03399034,  0.03972926,\n",
       "         0.01713766, -0.09407923,  0.04282649, -0.0111587 ,  0.020565  ,\n",
       "        -0.02484545,  0.02506446,  0.00555098, -0.00292714,  0.03787243,\n",
       "        -0.03494245,  0.06777945,  0.02706826,  0.03850488, -0.05578919,\n",
       "        -0.03302136,  0.00301088,  0.02818894,  0.07666627, -0.08516956,\n",
       "        -0.03537202, -0.06837834, -0.00548797, -0.01908865, -0.00284599,\n",
       "         0.0824784 , -0.01801234, -0.00120913,  0.02134807,  0.02816012,\n",
       "        -0.02182811, -0.07698049,  0.04191504, -0.01772331, -0.10040033,\n",
       "         0.00692177, -0.02796316, -0.0445582 , -0.06157222,  0.10145624,\n",
       "        -0.00963381,  0.10096458,  0.0047177 ,  0.06617888,  0.03885557,\n",
       "        -0.00787657,  0.0268558 , -0.03091918, -0.01056328,  0.10033691,\n",
       "        -0.03595695, -0.01495695,  0.05245739, -0.03973071,  0.04209256,\n",
       "         0.018536  ,  0.0231187 , -0.05690551, -0.03293652,  0.02865034,\n",
       "         0.06984378, -0.02771938,  0.05746059, -0.01802603,  0.10100625,\n",
       "         0.00823106, -0.00218664, -0.01977459, -0.02139798, -0.02073988,\n",
       "        -0.07589929, -0.02751526,  0.01627713, -0.0153914 , -0.06262937,\n",
       "         0.01311475, -0.09933811, -0.04334496, -0.08061336,  0.0091724 ,\n",
       "        -0.02972651, -0.0258902 , -0.06180015, -0.03558385,  0.01895512,\n",
       "        -0.01997392, -0.00617029,  0.07606238,  0.04640514,  0.02881571,\n",
       "        -0.04640506, -0.01369573, -0.06184129,  0.04200373,  0.00202797,\n",
       "        -0.02030321,  0.04844751,  0.01807224,  0.07844782, -0.03313062,\n",
       "         0.05824583,  0.00447842, -0.01961144, -0.00045633,  0.03107099,\n",
       "        -0.00321144,  0.01680857,  0.06138909,  0.00517969, -0.02396524,\n",
       "         0.02933806, -0.05025383, -0.04185723,  0.09955993,  0.06448301,\n",
       "         0.03606918, -0.03115356,  0.01786364,  0.01037989,  0.06728493,\n",
       "        -0.06519368,  0.0049594 ,  0.10143957, -0.01632897, -0.04359468,\n",
       "        -0.02721567, -0.01624425,  0.03745245, -0.02960903,  0.04793227,\n",
       "        -0.01649589, -0.00442804,  0.00562303, -0.01870941, -0.05266129,\n",
       "        -0.02731569, -0.10080238,  0.02205934,  0.0253306 , -0.04713247,\n",
       "         0.01325951, -0.01660333,  0.00863713,  0.06462494, -0.05216797,\n",
       "         0.10145401, -0.00225029]], dtype=float32)>"
      ]
     },
     "execution_count": 4,
     "metadata": {},
     "output_type": "execute_result"
    }
   ],
   "source": [
    "embed(['This movie was great!'])"
   ]
  },
  {
   "cell_type": "code",
   "execution_count": 5,
   "id": "57466371-6a20-4f2c-a980-4fa919d03cca",
   "metadata": {
    "ExecuteTime": {
     "end_time": "2023-10-31T11:26:01.236517Z",
     "start_time": "2023-10-31T11:26:01.093512Z"
    }
   },
   "outputs": [
    {
     "data": {
      "text/html": [
       "<div>\n",
       "<style scoped>\n",
       "    .dataframe tbody tr th:only-of-type {\n",
       "        vertical-align: middle;\n",
       "    }\n",
       "\n",
       "    .dataframe tbody tr th {\n",
       "        vertical-align: top;\n",
       "    }\n",
       "\n",
       "    .dataframe thead th {\n",
       "        text-align: right;\n",
       "    }\n",
       "</style>\n",
       "<table border=\"1\" class=\"dataframe\">\n",
       "  <thead>\n",
       "    <tr style=\"text-align: right;\">\n",
       "      <th></th>\n",
       "      <th>Name of movie</th>\n",
       "      <th>Year of relase</th>\n",
       "      <th>Watchtime</th>\n",
       "      <th>Genre</th>\n",
       "      <th>Certification</th>\n",
       "      <th>Movie Rating</th>\n",
       "      <th>Metascore</th>\n",
       "      <th>Votes</th>\n",
       "      <th>Gross collection</th>\n",
       "      <th>Description</th>\n",
       "      <th>Director</th>\n",
       "      <th>Stars</th>\n",
       "    </tr>\n",
       "  </thead>\n",
       "  <tbody>\n",
       "    <tr>\n",
       "      <th>0</th>\n",
       "      <td>The Shawshank Redemption</td>\n",
       "      <td>1994</td>\n",
       "      <td>142</td>\n",
       "      <td>Drama</td>\n",
       "      <td>R</td>\n",
       "      <td>9.3</td>\n",
       "      <td>82.0</td>\n",
       "      <td>2807755</td>\n",
       "      <td>$28.34M</td>\n",
       "      <td>Over the course of several years, two convicts...</td>\n",
       "      <td>Frank Darabont</td>\n",
       "      <td>Tim Robbins, Morgan Freeman, Bob Gunton, Willi...</td>\n",
       "    </tr>\n",
       "    <tr>\n",
       "      <th>1</th>\n",
       "      <td>The Godfather</td>\n",
       "      <td>1972</td>\n",
       "      <td>175</td>\n",
       "      <td>Crime, Drama</td>\n",
       "      <td>R</td>\n",
       "      <td>9.2</td>\n",
       "      <td>100.0</td>\n",
       "      <td>1956642</td>\n",
       "      <td>$134.97M</td>\n",
       "      <td>Don Vito Corleone, head of a mafia family, dec...</td>\n",
       "      <td>Francis Ford Coppola</td>\n",
       "      <td>Marlon Brando, Al Pacino, James Caan, Diane Ke...</td>\n",
       "    </tr>\n",
       "    <tr>\n",
       "      <th>2</th>\n",
       "      <td>Ramayana: The Legend of Prince Rama</td>\n",
       "      <td>1993</td>\n",
       "      <td>135</td>\n",
       "      <td>Animation, Action, Adventure</td>\n",
       "      <td>PG</td>\n",
       "      <td>9.2</td>\n",
       "      <td>NaN</td>\n",
       "      <td>13043</td>\n",
       "      <td>NaN</td>\n",
       "      <td>An anime adaptation of the Hindu epic the Rama...</td>\n",
       "      <td>Ram Mohan, Yûgô Sakô, Koichi Saski</td>\n",
       "      <td>Arun Govil, Nikhil Kapoor, Edie Mirman, Rael P...</td>\n",
       "    </tr>\n",
       "    <tr>\n",
       "      <th>3</th>\n",
       "      <td>The Chaos Class</td>\n",
       "      <td>1975</td>\n",
       "      <td>87</td>\n",
       "      <td>Comedy, Drama</td>\n",
       "      <td>NaN</td>\n",
       "      <td>9.2</td>\n",
       "      <td>NaN</td>\n",
       "      <td>42252</td>\n",
       "      <td>NaN</td>\n",
       "      <td>Lazy, uneducated students share a very close b...</td>\n",
       "      <td>Ertem Egilmez</td>\n",
       "      <td>Kemal Sunal, Münir Özkul, Halit Akçatepe, Tari...</td>\n",
       "    </tr>\n",
       "    <tr>\n",
       "      <th>4</th>\n",
       "      <td>The Dark Knight</td>\n",
       "      <td>2008</td>\n",
       "      <td>152</td>\n",
       "      <td>Action, Crime, Drama</td>\n",
       "      <td>PG-13</td>\n",
       "      <td>9.0</td>\n",
       "      <td>84.0</td>\n",
       "      <td>2789502</td>\n",
       "      <td>$534.86M</td>\n",
       "      <td>When the menace known as the Joker wreaks havo...</td>\n",
       "      <td>Christopher Nolan</td>\n",
       "      <td>Christian Bale, Heath Ledger, Aaron Eckhart, M...</td>\n",
       "    </tr>\n",
       "  </tbody>\n",
       "</table>\n",
       "</div>"
      ],
      "text/plain": [
       "                         Name of movie Year of relase  Watchtime  \\\n",
       "0             The Shawshank Redemption           1994        142   \n",
       "1                        The Godfather           1972        175   \n",
       "2  Ramayana: The Legend of Prince Rama           1993        135   \n",
       "3                      The Chaos Class           1975         87   \n",
       "4                      The Dark Knight           2008        152   \n",
       "\n",
       "                          Genre Certification  Movie Rating  Metascore  \\\n",
       "0                         Drama             R           9.3       82.0   \n",
       "1                  Crime, Drama             R           9.2      100.0   \n",
       "2  Animation, Action, Adventure            PG           9.2        NaN   \n",
       "3                 Comedy, Drama           NaN           9.2        NaN   \n",
       "4          Action, Crime, Drama         PG-13           9.0       84.0   \n",
       "\n",
       "     Votes Gross collection  \\\n",
       "0  2807755          $28.34M   \n",
       "1  1956642         $134.97M   \n",
       "2    13043              NaN   \n",
       "3    42252              NaN   \n",
       "4  2789502         $534.86M   \n",
       "\n",
       "                                         Description  \\\n",
       "0  Over the course of several years, two convicts...   \n",
       "1  Don Vito Corleone, head of a mafia family, dec...   \n",
       "2  An anime adaptation of the Hindu epic the Rama...   \n",
       "3  Lazy, uneducated students share a very close b...   \n",
       "4  When the menace known as the Joker wreaks havo...   \n",
       "\n",
       "                             Director  \\\n",
       "0                      Frank Darabont   \n",
       "1                Francis Ford Coppola   \n",
       "2  Ram Mohan, Yûgô Sakô, Koichi Saski   \n",
       "3                       Ertem Egilmez   \n",
       "4                   Christopher Nolan   \n",
       "\n",
       "                                               Stars  \n",
       "0  Tim Robbins, Morgan Freeman, Bob Gunton, Willi...  \n",
       "1  Marlon Brando, Al Pacino, James Caan, Diane Ke...  \n",
       "2  Arun Govil, Nikhil Kapoor, Edie Mirman, Rael P...  \n",
       "3  Kemal Sunal, Münir Özkul, Halit Akçatepe, Tari...  \n",
       "4  Christian Bale, Heath Ledger, Aaron Eckhart, M...  "
      ]
     },
     "execution_count": 5,
     "metadata": {},
     "output_type": "execute_result"
    }
   ],
   "source": [
    "df = pd.read_csv(\"IMDB_Dataset_NEW_.csv\", engine=\"python\")\n",
    "df.head()"
   ]
  },
  {
   "cell_type": "code",
   "execution_count": 6,
   "id": "896c2b20-d24d-4deb-8db2-7bad1a46958a",
   "metadata": {
    "ExecuteTime": {
     "end_time": "2023-10-31T11:26:01.249978Z",
     "start_time": "2023-10-31T11:26:01.239514Z"
    }
   },
   "outputs": [
    {
     "data": {
      "text/html": [
       "<div>\n",
       "<style scoped>\n",
       "    .dataframe tbody tr th:only-of-type {\n",
       "        vertical-align: middle;\n",
       "    }\n",
       "\n",
       "    .dataframe tbody tr th {\n",
       "        vertical-align: top;\n",
       "    }\n",
       "\n",
       "    .dataframe thead th {\n",
       "        text-align: right;\n",
       "    }\n",
       "</style>\n",
       "<table border=\"1\" class=\"dataframe\">\n",
       "  <thead>\n",
       "    <tr style=\"text-align: right;\">\n",
       "      <th></th>\n",
       "      <th>Name of movie</th>\n",
       "      <th>Description</th>\n",
       "    </tr>\n",
       "  </thead>\n",
       "  <tbody>\n",
       "    <tr>\n",
       "      <th>0</th>\n",
       "      <td>The Shawshank Redemption</td>\n",
       "      <td>Over the course of several years, two convicts...</td>\n",
       "    </tr>\n",
       "    <tr>\n",
       "      <th>1</th>\n",
       "      <td>The Godfather</td>\n",
       "      <td>Don Vito Corleone, head of a mafia family, dec...</td>\n",
       "    </tr>\n",
       "    <tr>\n",
       "      <th>2</th>\n",
       "      <td>Ramayana: The Legend of Prince Rama</td>\n",
       "      <td>An anime adaptation of the Hindu epic the Rama...</td>\n",
       "    </tr>\n",
       "    <tr>\n",
       "      <th>3</th>\n",
       "      <td>The Chaos Class</td>\n",
       "      <td>Lazy, uneducated students share a very close b...</td>\n",
       "    </tr>\n",
       "    <tr>\n",
       "      <th>4</th>\n",
       "      <td>The Dark Knight</td>\n",
       "      <td>When the menace known as the Joker wreaks havo...</td>\n",
       "    </tr>\n",
       "  </tbody>\n",
       "</table>\n",
       "</div>"
      ],
      "text/plain": [
       "                         Name of movie  \\\n",
       "0             The Shawshank Redemption   \n",
       "1                        The Godfather   \n",
       "2  Ramayana: The Legend of Prince Rama   \n",
       "3                      The Chaos Class   \n",
       "4                      The Dark Knight   \n",
       "\n",
       "                                         Description  \n",
       "0  Over the course of several years, two convicts...  \n",
       "1  Don Vito Corleone, head of a mafia family, dec...  \n",
       "2  An anime adaptation of the Hindu epic the Rama...  \n",
       "3  Lazy, uneducated students share a very close b...  \n",
       "4  When the menace known as the Joker wreaks havo...  "
      ]
     },
     "execution_count": 6,
     "metadata": {},
     "output_type": "execute_result"
    }
   ],
   "source": [
    "df = df[[\"Name of movie\", \"Description\"]]\n",
    "df.head()\n"
   ]
  },
  {
   "cell_type": "code",
   "execution_count": 7,
   "id": "cbd84a1b-722c-45dd-96d6-226194770d9f",
   "metadata": {
    "ExecuteTime": {
     "end_time": "2023-10-31T11:26:01.373386Z",
     "start_time": "2023-10-31T11:26:01.252009Z"
    }
   },
   "outputs": [],
   "source": [
    "titles = list(df['Description'])\n",
    "titles1 = list(df['Name of movie'])"
   ]
  },
  {
   "cell_type": "code",
   "execution_count": 8,
   "id": "78042f65-8bcf-4427-ab29-a01d55ecc0b5",
   "metadata": {
    "ExecuteTime": {
     "end_time": "2023-10-31T11:26:01.475368Z",
     "start_time": "2023-10-31T11:26:01.376290Z"
    }
   },
   "outputs": [
    {
     "data": {
      "text/plain": [
       "['Over the course of several years, two convicts form a friendship, seeking consolation and, eventually, redemption through basic compassion.',\n",
       " 'Don Vito Corleone, head of a mafia family, decides to hand over his empire to his youngest son Michael. However, his decision unintentionally puts the lives of his loved ones in grave danger.',\n",
       " 'An anime adaptation of the Hindu epic the Ramayana, where Lord Ram combats the wicked king Ravana.',\n",
       " 'Lazy, uneducated students share a very close bond. They live together in the dormitory, where they plan their latest pranks. When a new headmaster arrives, the students naturally try to overthrow him. A comic war of nitwits follows.',\n",
       " 'When the menace known as the Joker wreaks havoc and chaos on the people of Gotham, Batman must accept one of the greatest psychological and physical tests of his ability to fight injustice.']"
      ]
     },
     "execution_count": 8,
     "metadata": {},
     "output_type": "execute_result"
    }
   ],
   "source": [
    "titles[:5]"
   ]
  },
  {
   "cell_type": "code",
   "execution_count": 9,
   "id": "4b710a2f-e88e-4612-844f-cdee6520fa5f",
   "metadata": {
    "ExecuteTime": {
     "end_time": "2023-10-31T11:26:03.500925Z",
     "start_time": "2023-10-31T11:26:01.481748Z"
    }
   },
   "outputs": [
    {
     "name": "stdout",
     "output_type": "stream",
     "text": [
      "The embedding shape is: (10001, 512)\n"
     ]
    }
   ],
   "source": [
    "embeddings = embed(titles)\n",
    "embeddings1 = embed(titles1)\n",
    "print('The embedding shape is:', embeddings.shape)"
   ]
  },
  {
   "cell_type": "code",
   "execution_count": 10,
   "id": "42d2037d-e848-4256-85b2-f3a39172c85b",
   "metadata": {
    "ExecuteTime": {
     "end_time": "2023-10-31T11:26:03.690652Z",
     "start_time": "2023-10-31T11:26:03.505773Z"
    }
   },
   "outputs": [],
   "source": [
    "pca = PCA(n_components=2)\n",
    "emb_2d = pca.fit_transform(embeddings)"
   ]
  },
  {
   "cell_type": "code",
   "execution_count": 11,
   "id": "81f744d5-d93b-4705-ab37-66ff0fb90079",
   "metadata": {
    "ExecuteTime": {
     "end_time": "2023-10-31T11:26:03.982003Z",
     "start_time": "2023-10-31T11:26:03.693647Z"
    },
    "scrolled": true
   },
   "outputs": [
    {
     "data": {
      "image/png": "[encoded data removed]",
      "text/plain": [
       "<Figure size 1100x600 with 1 Axes>"
      ]
     },
     "metadata": {},
     "output_type": "display_data"
    }
   ],
   "source": [
    "plt.figure(figsize=(11, 6))\n",
    "plt.title('Embedding space')\n",
    "plt.scatter(emb_2d[:, 0], emb_2d[:, 1])\n",
    "plt.show()"
   ]
  },
  {
   "cell_type": "code",
   "execution_count": 12,
   "id": "052598e7-df0b-4f56-b640-baf97854db2f",
   "metadata": {
    "ExecuteTime": {
     "end_time": "2023-10-31T11:26:04.002053Z",
     "start_time": "2023-10-31T11:26:03.984001Z"
    }
   },
   "outputs": [
    {
     "data": {
      "text/html": [
       "<style>#sk-container-id-1 {color: black;background-color: white;}#sk-container-id-1 pre{padding: 0;}#sk-container-id-1 div.sk-toggleable {background-color: white;}#sk-container-id-1 label.sk-toggleable__label {cursor: pointer;display: block;width: 100%;margin-bottom: 0;padding: 0.3em;box-sizing: border-box;text-align: center;}#sk-container-id-1 label.sk-toggleable__label-arrow:before {content: \"▸\";float: left;margin-right: 0.25em;color: #696969;}#sk-container-id-1 label.sk-toggleable__label-arrow:hover:before {color: black;}#sk-container-id-1 div.sk-estimator:hover label.sk-toggleable__label-arrow:before {color: black;}#sk-container-id-1 div.sk-toggleable__content {max-height: 0;max-width: 0;overflow: hidden;text-align: left;background-color: #f0f8ff;}#sk-container-id-1 div.sk-toggleable__content pre {margin: 0.2em;color: black;border-radius: 0.25em;background-color: #f0f8ff;}#sk-container-id-1 input.sk-toggleable__control:checked~div.sk-toggleable__content {max-height: 200px;max-width: 100%;overflow: auto;}#sk-container-id-1 input.sk-toggleable__control:checked~label.sk-toggleable__label-arrow:before {content: \"▾\";}#sk-container-id-1 div.sk-estimator input.sk-toggleable__control:checked~label.sk-toggleable__label {background-color: #d4ebff;}#sk-container-id-1 div.sk-label input.sk-toggleable__control:checked~label.sk-toggleable__label {background-color: #d4ebff;}#sk-container-id-1 input.sk-hidden--visually {border: 0;clip: rect(1px 1px 1px 1px);clip: rect(1px, 1px, 1px, 1px);height: 1px;margin: -1px;overflow: hidden;padding: 0;position: absolute;width: 1px;}#sk-container-id-1 div.sk-estimator {font-family: monospace;background-color: #f0f8ff;border: 1px dotted black;border-radius: 0.25em;box-sizing: border-box;margin-bottom: 0.5em;}#sk-container-id-1 div.sk-estimator:hover {background-color: #d4ebff;}#sk-container-id-1 div.sk-parallel-item::after {content: \"\";width: 100%;border-bottom: 1px solid gray;flex-grow: 1;}#sk-container-id-1 div.sk-label:hover label.sk-toggleable__label {background-color: #d4ebff;}#sk-container-id-1 div.sk-serial::before {content: \"\";position: absolute;border-left: 1px solid gray;box-sizing: border-box;top: 0;bottom: 0;left: 50%;z-index: 0;}#sk-container-id-1 div.sk-serial {display: flex;flex-direction: column;align-items: center;background-color: white;padding-right: 0.2em;padding-left: 0.2em;position: relative;}#sk-container-id-1 div.sk-item {position: relative;z-index: 1;}#sk-container-id-1 div.sk-parallel {display: flex;align-items: stretch;justify-content: center;background-color: white;position: relative;}#sk-container-id-1 div.sk-item::before, #sk-container-id-1 div.sk-parallel-item::before {content: \"\";position: absolute;border-left: 1px solid gray;box-sizing: border-box;top: 0;bottom: 0;left: 50%;z-index: -1;}#sk-container-id-1 div.sk-parallel-item {display: flex;flex-direction: column;z-index: 1;position: relative;background-color: white;}#sk-container-id-1 div.sk-parallel-item:first-child::after {align-self: flex-end;width: 50%;}#sk-container-id-1 div.sk-parallel-item:last-child::after {align-self: flex-start;width: 50%;}#sk-container-id-1 div.sk-parallel-item:only-child::after {width: 0;}#sk-container-id-1 div.sk-dashed-wrapped {border: 1px dashed gray;margin: 0 0.4em 0.5em 0.4em;box-sizing: border-box;padding-bottom: 0.4em;background-color: white;}#sk-container-id-1 div.sk-label label {font-family: monospace;font-weight: bold;display: inline-block;line-height: 1.2em;}#sk-container-id-1 div.sk-label-container {text-align: center;}#sk-container-id-1 div.sk-container {/* jupyter's `normalize.less` sets `[hidden] { display: none; }` but bootstrap.min.css set `[hidden] { display: none !important; }` so we also need the `!important` here to be able to override the default hidden behavior on the sphinx rendered scikit-learn.org. See: https://github.com/scikit-learn/scikit-learn/issues/21755 */display: inline-block !important;position: relative;}#sk-container-id-1 div.sk-text-repr-fallback {display: none;}</style><div id=\"sk-container-id-1\" class=\"sk-top-container\"><div class=\"sk-text-repr-fallback\"><pre>NearestNeighbors(n_neighbors=15)</pre><b>In a Jupyter environment, please rerun this cell to show the HTML representation or trust the notebook. <br />On GitHub, the HTML representation is unable to render, please try loading this page with nbviewer.org.</b></div><div class=\"sk-container\" hidden><div class=\"sk-item\"><div class=\"sk-estimator sk-toggleable\"><input class=\"sk-toggleable__control sk-hidden--visually\" id=\"sk-estimator-id-1\" type=\"checkbox\" checked><label for=\"sk-estimator-id-1\" class=\"sk-toggleable__label sk-toggleable__label-arrow\">NearestNeighbors</label><div class=\"sk-toggleable__content\"><pre>NearestNeighbors(n_neighbors=15)</pre></div></div></div></div></div>"
      ],
      "text/plain": [
       "NearestNeighbors(n_neighbors=15)"
      ]
     },
     "execution_count": 12,
     "metadata": {},
     "output_type": "execute_result"
    }
   ],
   "source": [
    "nn = NearestNeighbors(n_neighbors=15)\n",
    "nn.fit(embeddings)"
   ]
  },
  {
   "cell_type": "code",
   "execution_count": 13,
   "id": "fa1ed24a-08af-43ed-8b41-047f93cc2344",
   "metadata": {
    "ExecuteTime": {
     "end_time": "2023-10-31T11:26:04.137594Z",
     "start_time": "2023-10-31T11:26:04.005070Z"
    }
   },
   "outputs": [],
   "source": [
    "def recommend(text):\n",
    "    emb = embed([text])\n",
    "    neighbors = nn.kneighbors(emb, return_distance=False)[0]\n",
    "    return df['Name of movie'].iloc[neighbors].tolist()\n"
   ]
  },
  {
   "cell_type": "code",
   "execution_count": 14,
   "id": "c861268b-c037-4ba6-a598-df67558ef164",
   "metadata": {
    "ExecuteTime": {
     "end_time": "2023-10-31T11:26:04.522047Z",
     "start_time": "2023-10-31T11:26:04.148283Z"
    }
   },
   "outputs": [
    {
     "name": "stdout",
     "output_type": "stream",
     "text": [
      "Recommended Movies:\n"
     ]
    }
   ],
   "source": [
    "print('Recommended Movies:')\n",
    "Rec=recommend(\"Iron Man\")"
   ]
  },
  {
   "cell_type": "code",
   "execution_count": 15,
   "id": "141ebd73",
   "metadata": {
    "ExecuteTime": {
     "end_time": "2023-10-31T11:26:04.532418Z",
     "start_time": "2023-10-31T11:26:04.524046Z"
    }
   },
   "outputs": [
    {
     "data": {
      "text/plain": [
       "['Captain America: Civil War',\n",
       " 'Iron Man 2',\n",
       " 'Avengers: Age of Ultron',\n",
       " 'Iron Man',\n",
       " 'Ant-Man and the Wasp',\n",
       " 'Spider-Man: Far from Home',\n",
       " 'Captain America: The Winter Soldier',\n",
       " 'Captain America: The First Avenger',\n",
       " 'Avengers: Endgame',\n",
       " 'Kick-Ass',\n",
       " 'Avengers: Infinity War',\n",
       " 'Blue Beetle',\n",
       " 'Superman III',\n",
       " 'The Avengers',\n",
       " 'Krrish']"
      ]
     },
     "execution_count": 15,
     "metadata": {},
     "output_type": "execute_result"
    }
   ],
   "source": [
    "Rec"
   ]
  },
  {
   "cell_type": "code",
   "execution_count": 16,
   "id": "2f853a59",
   "metadata": {
    "ExecuteTime": {
     "end_time": "2023-10-31T11:26:04.912131Z",
     "start_time": "2023-10-31T11:26:04.533344Z"
    }
   },
   "outputs": [],
   "source": [
    "import pickle\n",
    "pickle.dump(df, open(\"Name of movie.pkl\", \"wb\"))\n",
    "pickle.dump(embeddings, open(\"embeddings.pkl\", \"wb\"))\n",
    "pickle.dump(embeddings1, open(\"embeddings1.pkl\", \"wb\"))"
   ]
  },
  {
   "cell_type": "code",
   "execution_count": null,
   "id": "efd5864c",
   "metadata": {},
   "outputs": [],
   "source": []
  },
  {
   "cell_type": "code",
   "execution_count": 17,
   "id": "3f04ca77",
   "metadata": {
    "ExecuteTime": {
     "end_time": "2023-10-31T11:26:04.938836Z",
     "start_time": "2023-10-31T11:26:04.920078Z"
    }
   },
   "outputs": [],
   "source": [
    "def recommend1(movie):\n",
    "    l=[]\n",
    "    index1=df[df['Name of movie'] == movie].index[0]\n",
    "    k = np.array(embeddings1[index1]).tolist()\n",
    "    l.append(k)\n",
    "    \n",
    "    nn = NearestNeighbors(n_neighbors=10)\n",
    "    nn.fit(embeddings)\n",
    "    neighbors = nn.kneighbors(l, return_distance=False)[0]\n",
    "    ki1= df['Name of movie'].iloc[neighbors].tolist()\n",
    "    return ki1"
   ]
  },
  {
   "cell_type": "code",
   "execution_count": 18,
   "id": "c25f2ad9",
   "metadata": {
    "ExecuteTime": {
     "end_time": "2023-10-31T11:26:05.111894Z",
     "start_time": "2023-10-31T11:26:04.945619Z"
    }
   },
   "outputs": [
    {
     "data": {
      "text/plain": [
       "['Captain America: Civil War',\n",
       " 'Iron Man 2',\n",
       " 'Avengers: Age of Ultron',\n",
       " 'Iron Man',\n",
       " 'Ant-Man and the Wasp',\n",
       " 'Spider-Man: Far from Home',\n",
       " 'Captain America: The Winter Soldier',\n",
       " 'Captain America: The First Avenger',\n",
       " 'Avengers: Endgame',\n",
       " 'Kick-Ass']"
      ]
     },
     "execution_count": 18,
     "metadata": {},
     "output_type": "execute_result"
    }
   ],
   "source": [
    "recommend1('Iron Man')"
   ]
  },
  {
   "cell_type": "code",
   "execution_count": 19,
   "id": "6f7aba39",
   "metadata": {
    "ExecuteTime": {
     "end_time": "2023-10-31T11:26:05.190187Z",
     "start_time": "2023-10-31T11:26:05.114891Z"
    }
   },
   "outputs": [],
   "source": [
    "def recommend(movie):\n",
    "    l=[]\n",
    "    \n",
    "    index1=movies[movies['Name of movie'] == movie].index[0]\n",
    "    k = np.array(embeddings1[index1]).tolist()\n",
    "    l.append(k)\n",
    "    nn = NearestNeighbors(n_neighbors=10)\n",
    "    nn.fit(embeddings1)\n",
    "    neighbors = nn.kneighbors(l, return_distance=False)[0]\n",
    "    ki1= movies['Name of movie'].iloc[neighbors].tolist()\n",
    "    return ki1"
   ]
  },
  {
   "cell_type": "code",
   "execution_count": 26,
   "id": "53df5e14",
   "metadata": {
    "ExecuteTime": {
     "end_time": "2023-10-31T11:27:27.178504Z",
     "start_time": "2023-10-31T11:27:27.113433Z"
    }
   },
   "outputs": [
    {
     "data": {
      "text/html": [
       "<div>\n",
       "<style scoped>\n",
       "    .dataframe tbody tr th:only-of-type {\n",
       "        vertical-align: middle;\n",
       "    }\n",
       "\n",
       "    .dataframe tbody tr th {\n",
       "        vertical-align: top;\n",
       "    }\n",
       "\n",
       "    .dataframe thead th {\n",
       "        text-align: right;\n",
       "    }\n",
       "</style>\n",
       "<table border=\"1\" class=\"dataframe\">\n",
       "  <thead>\n",
       "    <tr style=\"text-align: right;\">\n",
       "      <th></th>\n",
       "      <th>Name of movie</th>\n",
       "      <th>Link</th>\n",
       "    </tr>\n",
       "  </thead>\n",
       "  <tbody>\n",
       "    <tr>\n",
       "      <th>0</th>\n",
       "      <td>The Shawshank Redemption</td>\n",
       "      <td>https://m.media-amazon.com/images/M/MV5BNDE3OD...</td>\n",
       "    </tr>\n",
       "    <tr>\n",
       "      <th>1</th>\n",
       "      <td>The Godfather</td>\n",
       "      <td>https://m.media-amazon.com/images/M/MV5BM2MyNj...</td>\n",
       "    </tr>\n",
       "    <tr>\n",
       "      <th>2</th>\n",
       "      <td>Ramayana: The Legend of Prince Rama</td>\n",
       "      <td>https://m.media-amazon.com/images/M/MV5BNTJjZT...</td>\n",
       "    </tr>\n",
       "    <tr>\n",
       "      <th>3</th>\n",
       "      <td>Hababam Sinifi</td>\n",
       "      <td>https://m.media-amazon.com/images/M/MV5BMGRjOG...</td>\n",
       "    </tr>\n",
       "    <tr>\n",
       "      <th>4</th>\n",
       "      <td>The Dark Knight</td>\n",
       "      <td>https://m.media-amazon.com/images/M/MV5BMTMxNT...</td>\n",
       "    </tr>\n",
       "  </tbody>\n",
       "</table>\n",
       "</div>"
      ],
      "text/plain": [
       "                         Name of movie  \\\n",
       "0             The Shawshank Redemption   \n",
       "1                        The Godfather   \n",
       "2  Ramayana: The Legend of Prince Rama   \n",
       "3                       Hababam Sinifi   \n",
       "4                      The Dark Knight   \n",
       "\n",
       "                                                Link  \n",
       "0  https://m.media-amazon.com/images/M/MV5BNDE3OD...  \n",
       "1  https://m.media-amazon.com/images/M/MV5BM2MyNj...  \n",
       "2  https://m.media-amazon.com/images/M/MV5BNTJjZT...  \n",
       "3  https://m.media-amazon.com/images/M/MV5BMGRjOG...  \n",
       "4  https://m.media-amazon.com/images/M/MV5BMTMxNT...  "
      ]
     },
     "execution_count": 26,
     "metadata": {},
     "output_type": "execute_result"
    }
   ],
   "source": [
    "df1 = pd.read_csv(\"Link.csv\", engine=\"python\")\n",
    "df1.head()"
   ]
  },
  {
   "cell_type": "code",
   "execution_count": 21,
   "id": "4739f564",
   "metadata": {
    "ExecuteTime": {
     "end_time": "2023-10-31T11:26:05.544678Z",
     "start_time": "2023-10-31T11:26:05.422801Z"
    }
   },
   "outputs": [
    {
     "data": {
      "text/plain": [
       "0        https://m.media-amazon.com/images/M/MV5BNDE3OD...\n",
       "1        https://m.media-amazon.com/images/M/MV5BM2MyNj...\n",
       "2        https://m.media-amazon.com/images/M/MV5BNTJjZT...\n",
       "3        https://m.media-amazon.com/images/M/MV5BMGRjOG...\n",
       "4        https://m.media-amazon.com/images/M/MV5BMTMxNT...\n",
       "                               ...                        \n",
       "10000    https://m.media-amazon.com/images/M/MV5BZThhM2...\n",
       "10001    https://m.media-amazon.com/images/M/MV5BM2QxMW...\n",
       "10002    https://m.media-amazon.com/images/M/MV5BMTUyND...\n",
       "10003    https://m.media-amazon.com/images/M/MV5BMjUzMD...\n",
       "10004    https://m.media-amazon.com/images/M/MV5BOWU5MD...\n",
       "Name: Link, Length: 10005, dtype: object"
      ]
     },
     "execution_count": 21,
     "metadata": {},
     "output_type": "execute_result"
    }
   ],
   "source": [
    "kf=df1['Link']\n",
    "kf"
   ]
  },
  {
   "cell_type": "code",
   "execution_count": 22,
   "id": "25ab2c32",
   "metadata": {
    "ExecuteTime": {
     "end_time": "2023-10-31T11:26:05.941867Z",
     "start_time": "2023-10-31T11:26:05.549795Z"
    }
   },
   "outputs": [],
   "source": [
    "import pickle\n",
    "pickle.dump(df1, open(\"Link.csv.pkl\", \"wb\"))"
   ]
  },
  {
   "cell_type": "code",
   "execution_count": 23,
   "id": "2dd7c277",
   "metadata": {
    "ExecuteTime": {
     "end_time": "2023-10-31T11:26:06.068999Z",
     "start_time": "2023-10-31T11:26:05.945908Z"
    }
   },
   "outputs": [
    {
     "data": {
      "text/plain": [
       "'https://m.media-amazon.com/images/M/MV5BM2MyNjYxNmUtYTAwNi00MTYxLWJmNWYtYzZlODY3ZTk3OTFlXkEyXkFqcGdeQXVyNzkwMjQ5NzM@._V1_UY98_CR1,0,67,98_AL_.jpg'"
      ]
     },
     "execution_count": 23,
     "metadata": {},
     "output_type": "execute_result"
    }
   ],
   "source": [
    "li=[]\n",
    "k=df1[df1['Name of movie']=='The Godfather']['Link']\n",
    "li=k.tolist()\n",
    "li[0]\n"
   ]
  },
  {
   "cell_type": "code",
   "execution_count": null,
   "id": "40018c00",
   "metadata": {
    "ExecuteTime": {
     "end_time": "2023-10-29T10:50:31.448086Z",
     "start_time": "2023-10-29T10:50:28.996371Z"
    }
   },
   "outputs": [],
   "source": []
  },
  {
   "cell_type": "code",
   "execution_count": 29,
   "id": "9787d475",
   "metadata": {
    "ExecuteTime": {
     "end_time": "2023-10-31T11:31:42.216121Z",
     "start_time": "2023-10-31T11:31:42.198488Z"
    }
   },
   "outputs": [
    {
     "name": "stdout",
     "output_type": "stream",
     "text": [
      "Overwriting kk1.py\n"
     ]
    }
   ],
   "source": [
    "%%writefile kk1.py\n",
    "import pickle\n",
    "import numpy as np\n",
    "import streamlit as st\n",
    "import requests\n",
    "from sklearn.neighbors import NearestNeighbors\n",
    "st.set_page_config(layout=\"wide\")\n",
    "def recommend(movie):\n",
    "    l=[]\n",
    "    index1=movies[movies['Name of movie'] == movie].index[0]\n",
    "    k = np.array(embeddings1[index1]).tolist()\n",
    "    l.append(k)\n",
    "    nn = NearestNeighbors(n_neighbors=10)\n",
    "    nn.fit(embeddings)\n",
    "    neighbors = nn.kneighbors(l, return_distance=False)[0]\n",
    "    ki1= movies['Name of movie'].iloc[neighbors].tolist()\n",
    "    return ki1\n",
    "\n",
    "st.header('Movie Recommender System')\n",
    "movies = pickle.load(open('Name of movie.pkl','rb'))\n",
    "embeddings= pickle.load(open('embeddings.pkl','rb'))\n",
    "embeddings1= pickle.load(open('embeddings1.pkl','rb'))\n",
    "Link= pickle.load(open('Link.pkl','rb'))\n",
    "movie_list = movies['Name of movie'].values\n",
    "selected_movie = st.selectbox(\n",
    "    \"Type or select a movie from the dropdown\",\n",
    "    movie_list\n",
    ")\n",
    "\n",
    "def img(value):\n",
    "    lis1=[]\n",
    "    lis=Link[Link['Name of movie']==value]['Link']\n",
    "    lis1=lis.tolist()\n",
    "    if len(lis1)>1:\n",
    "        return lis1[0]\n",
    "    else:\n",
    "        return lis1\n",
    "    \n",
    "\n",
    "if st.button('Show Recommendation'):\n",
    "    ki = recommend(selected_movie)\n",
    "    col1, col2, col3, col4, col5,col6, col7, col8, col9, col10 = st.columns(10)\n",
    "    with col1:\n",
    "        st.image(img(ki[0]), width=120, use_column_width=120, clamp=False, channels=\"RGB\", output_format=\"auto\")\n",
    "        st.write(f\"**{ki[0]}**\")\n",
    "    with col2:\n",
    "       \n",
    "        st.image(img(ki[1]), width=120, use_column_width=120, clamp=False, channels=\"RGB\", output_format=\"auto\")\n",
    "        st.write(f\"**{ki[1]}**\")\n",
    "    with col3:\n",
    "        st.image(img(ki[2]), width=120, use_column_width=120, clamp=False, channels=\"RGB\", output_format=\"auto\")\n",
    "        st.write(f\"**{ki[2]}**\")\n",
    "        \n",
    "    with col4:\n",
    "        st.image(img(ki[3]), width=120, use_column_width=120, clamp=False, channels=\"RGB\", output_format=\"auto\")\n",
    "        st.write(f\"**{ki[3]}**\")\n",
    "        \n",
    "    with col5:\n",
    "        st.image(img(ki[4]), width=120, use_column_width=120, clamp=False, channels=\"RGB\", output_format=\"auto\")\n",
    "        st.write(f\"**{ki[4]}**\")\n",
    "    with col6:\n",
    "        st.image(img(ki[5]), width=120, use_column_width=120, clamp=False, channels=\"RGB\", output_format=\"auto\")\n",
    "        st.write(f\"**{ki[5]}**\")\n",
    "    with col7:\n",
    "       \n",
    "        st.image(img(ki[6]), width=120, use_column_width=120, clamp=False, channels=\"RGB\", output_format=\"auto\")\n",
    "        st.write(f\"**{ki[6]}**\")\n",
    "    with col8:\n",
    "        st.image(img(ki[7]), width=120, use_column_width=120, clamp=False, channels=\"RGB\", output_format=\"auto\")\n",
    "        st.write(f\"**{ki[7]}**\")\n",
    "        \n",
    "    with col9:\n",
    "        st.image(img(ki[8]), width=120, use_column_width=120, clamp=False, channels=\"RGB\", output_format=\"auto\")\n",
    "        st.write(f\"**{ki[8]}**\")\n",
    "        \n",
    "    with col10:\n",
    "        st.image(img(ki[9]), width=120, use_column_width=120, clamp=False, channels=\"RGB\", output_format=\"auto\")\n",
    "        st.write(f\"**{ki[9]}**\")\n",
    "       \n",
    "\n",
    "\n",
    "\n",
    "\n",
    "\n"
   ]
  },
  {
   "cell_type": "code",
   "execution_count": 30,
   "id": "2fe9ada9",
   "metadata": {
    "ExecuteTime": {
     "end_time": "2023-10-31T12:18:20.560229Z",
     "start_time": "2023-10-31T11:31:44.850591Z"
    }
   },
   "outputs": [
    {
     "name": "stdout",
     "output_type": "stream",
     "text": [
      "^C\n"
     ]
    }
   ],
   "source": [
    "!streamlit run kk1.py"
   ]
  },
  {
   "cell_type": "code",
   "execution_count": null,
   "id": "42334b8e",
   "metadata": {
    "ExecuteTime": {
     "end_time": "2023-10-29T06:14:28.413414Z",
     "start_time": "2023-10-29T06:14:28.382185Z"
    }
   },
   "outputs": [],
   "source": [
    "\n"
   ]
  },
  {
   "cell_type": "code",
   "execution_count": null,
   "id": "df0eb84a",
   "metadata": {},
   "outputs": [],
   "source": []
  },
  {
   "cell_type": "code",
   "execution_count": null,
   "id": "02342a32",
   "metadata": {},
   "outputs": [],
   "source": []
  }
 ],
 "metadata": {
  "kernelspec": {
   "display_name": "Python 3 (ipykernel)",
   "language": "python",
   "name": "python3"
  },
  "language_info": {
   "codemirror_mode": {
    "name": "ipython",
    "version": 3
   },
   "file_extension": ".py",
   "mimetype": "text/x-python",
   "name": "python",
   "nbconvert_exporter": "python",
   "pygments_lexer": "ipython3",
   "version": "3.11.3"
  }
 },
 "nbformat": 4,
 "nbformat_minor": 5
}
